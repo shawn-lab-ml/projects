{
  "nbformat": 4,
  "nbformat_minor": 0,
  "metadata": {
    "colab": {
      "name": "SPAM_HAM.ipynb",
      "provenance": [],
      "collapsed_sections": [],
      "toc_visible": true
    },
    "kernelspec": {
      "name": "python3",
      "display_name": "Python 3"
    },
    "accelerator": "GPU"
  },
  "cells": [
    {
      "cell_type": "markdown",
      "metadata": {
        "id": "cpCC-kKWPxte",
        "colab_type": "text"
      },
      "source": [
        "# **Preliminary Tasks**"
      ]
    },
    {
      "cell_type": "code",
      "metadata": {
        "id": "MvZOsQOmPwVG",
        "colab_type": "code",
        "colab": {
          "base_uri": "https://localhost:8080/",
          "height": 50
        },
        "outputId": "7f8fe3e5-002e-44ab-ca0f-382c38e2ee03"
      },
      "source": [
        "!pip install nltk"
      ],
      "execution_count": 62,
      "outputs": [
        {
          "output_type": "stream",
          "text": [
            "Requirement already satisfied: nltk in /usr/local/lib/python3.6/dist-packages (3.2.5)\n",
            "Requirement already satisfied: six in /usr/local/lib/python3.6/dist-packages (from nltk) (1.15.0)\n"
          ],
          "name": "stdout"
        }
      ]
    },
    {
      "cell_type": "markdown",
      "metadata": {
        "id": "WhWiVdwhbok8",
        "colab_type": "text"
      },
      "source": [
        "## Importing Drive"
      ]
    },
    {
      "cell_type": "code",
      "metadata": {
        "id": "Iie_K8cYbkjq",
        "colab_type": "code",
        "colab": {}
      },
      "source": [
        "from google.colab import drive\n",
        "drive.mount('/content/drive')"
      ],
      "execution_count": null,
      "outputs": []
    },
    {
      "cell_type": "markdown",
      "metadata": {
        "id": "VwVe8EVlPsZv",
        "colab_type": "text"
      },
      "source": [
        "## Importing Librairies"
      ]
    },
    {
      "cell_type": "code",
      "metadata": {
        "id": "i4jPLlyZdtYR",
        "colab_type": "code",
        "colab": {
          "base_uri": "https://localhost:8080/",
          "height": 84
        },
        "outputId": "b5fd65ce-a27b-4111-e476-e5b0cc3ac67e"
      },
      "source": [
        "import pandas as pd\n",
        "import numpy as np\n",
        "from matplotlib import pyplot\n",
        "import os\n",
        "import re\n",
        "import unicodedata\n",
        "\n",
        "import nltk\n",
        "nltk.download('wordnet')\n",
        "nltk.download('stopwords')\n",
        "from nltk.corpus import wordnet as wn\n",
        "from nltk.corpus import stopwords\n",
        "from nltk.tokenize import TreebankWordTokenizer\n",
        "from nltk.stem import WordNetLemmatizer\n",
        "\n",
        "import sklearn\n",
        "from sklearn.feature_extraction.text import TfidfVectorizer, HashingVectorizer\n",
        "from sklearn.model_selection import train_test_split\n",
        "from sklearn.linear_model import LogisticRegression\n",
        "from sklearn.naive_bayes import MultinomialNB\n",
        "from sklearn.metrics import precision_recall_curve, f1_score, auc, confusion_matrix"
      ],
      "execution_count": 159,
      "outputs": [
        {
          "output_type": "stream",
          "text": [
            "[nltk_data] Downloading package wordnet to /root/nltk_data...\n",
            "[nltk_data]   Package wordnet is already up-to-date!\n",
            "[nltk_data] Downloading package stopwords to /root/nltk_data...\n",
            "[nltk_data]   Package stopwords is already up-to-date!\n"
          ],
          "name": "stdout"
        }
      ]
    },
    {
      "cell_type": "markdown",
      "metadata": {
        "id": "bpC1njkqc4BI",
        "colab_type": "text"
      },
      "source": [
        "## DataPath"
      ]
    },
    {
      "cell_type": "code",
      "metadata": {
        "id": "2kGFm0YzbmlE",
        "colab_type": "code",
        "colab": {}
      },
      "source": [
        "DATA_PATH = \"/content/drive/My Drive/SPAM_HAM/SMSSpamCollection.txt\""
      ],
      "execution_count": 65,
      "outputs": []
    },
    {
      "cell_type": "markdown",
      "metadata": {
        "id": "tE0VjVULVJ1l",
        "colab_type": "text"
      },
      "source": [
        "# **Utils**"
      ]
    },
    {
      "cell_type": "code",
      "metadata": {
        "id": "Oftu3JDUVLWU",
        "colab_type": "code",
        "colab": {}
      },
      "source": [
        "def getPrecisionRecall(conf_matrix):\n",
        "  TP = conf_matrix[1][1]\n",
        "  TN = conf_matrix[0][0]\n",
        "  FP = conf_matrix[0][1]\n",
        "  FN = conf_matrix[1][0]\n",
        "\n",
        "  precision = TP / (TP  + FP)\n",
        "  recall = TP / (TP + FN)\n",
        "\n",
        "  return precision, recall\n",
        "\n",
        "def getF1(precision, recall):\n",
        "  f1 = 2*precision*recall / (precision + recall)\n",
        "  return f1\n",
        "\n",
        "def MakeTable(keys, values):\n",
        "  dictionary = dict(zip(keys, values))\n",
        "  tbl_scores = pd.DataFrame(dictionary, index=[0]).transpose()\n",
        "  tbl_scores.columns = ['score']\n",
        "  return tbl_scores\n",
        "\n",
        "def plotPRCurve(y_true, y_proba, model_name = 'model'):\n",
        "  precision, recall, _ = precision_recall_curve(y_true, y_proba)\n",
        "  f1, auc = f1_score(y_true, y_pred), sklearn.metrics.auc(recall, precision)\n",
        "  # summarize scores\n",
        "  print(f'{model_name}: f1=%.3f auc=%.3f' % (f1, auc))\n",
        "  # plot the precision-recall curves\n",
        "  no_skill = len(y_true[y_true==1]) / len(y_true)\n",
        "  pyplot.plot([0, 1], [no_skill, no_skill], linestyle='--', label='No Skill')\n",
        "  pyplot.plot(recall, precision, marker='.', label=model_name)\n",
        "  # axis labels\n",
        "  pyplot.xlabel('Recall')\n",
        "  pyplot.ylabel('Precision')\n",
        "  # show the legend\n",
        "  pyplot.legend()\n",
        "  # show the plot\n",
        "  pyplot.show()\n",
        "\n",
        "def applyThreshold(elem, threshold):\n",
        "  if elem >= threshold:\n",
        "    return 1\n",
        "  return 0"
      ],
      "execution_count": 97,
      "outputs": []
    },
    {
      "cell_type": "markdown",
      "metadata": {
        "id": "s5u_JeZ3_8jN",
        "colab_type": "text"
      },
      "source": [
        "# **Data preprocessing**"
      ]
    },
    {
      "cell_type": "markdown",
      "metadata": {
        "id": "fMNx-HACTAhY",
        "colab_type": "text"
      },
      "source": [
        "## Functions"
      ]
    },
    {
      "cell_type": "code",
      "metadata": {
        "id": "LPVp_3g1-6Bw",
        "colab_type": "code",
        "colab": {}
      },
      "source": [
        "def clean(text):\n",
        "  \"\"\"\n",
        "  Function that cleans up the data by:\n",
        "  - Removing stopwords\n",
        "  - applying the compatibility decomposition, removing non-ascii terms, decoding utf-8 and lowercasing\n",
        "  - Regex parsing and split\n",
        "  - Lemmatizing i.e.putting together the inflected forms of a word (changing / changes become change)\n",
        "  \"\"\"\n",
        "  lemmatizer = nltk.stem.WordNetLemmatizer()\n",
        "  stopwords = nltk.corpus.stopwords.words('english')\n",
        "  text = (unicodedata.normalize('NFKD', text)\n",
        "    .encode('ascii', 'ignore')\n",
        "    .decode('utf-8', 'ignore')\n",
        "    .lower())\n",
        "  words = re.sub(r'[^\\w\\s]', '', text).split()\n",
        "  tokens = [lemmatizer.lemmatize(word) for word in words if word not in stopwords]\n",
        "  return ' '.join(tokens)\n",
        "\n",
        "def to_ngrams(corpus):\n",
        "  \"\"\"\n",
        "  - Making use of the TF-IDF vectorizer: Term Frequency * Inverse Document Frequency\n",
        "    * min_df = 5 means we want the word / n-grams to appear in at least 5 documents (in this case SMS)\n",
        "    * max_df = 0.5 means that we will only consider words / n-grams that appear in at least 50% of documents\n",
        "    * ngram_range = (1,2) means we are looking at uni/bi-grams\n",
        "  \"\"\"\n",
        "  tfidf = TfidfVectorizer(min_df = 5, max_df = 0.5, ngram_range=(1,2))\n",
        "  features = tfidf.fit_transform(corpus)\n",
        "  return pd.DataFrame(features.todense(), columns=tfidf.get_feature_names())\n",
        "\n",
        "def preprocess_corpus(corpus):\n",
        "  df['cleaned_sms'] = df.apply(lambda row: clean(row[\"sms\"]),axis=1)\n",
        "  df_ngrams = to_ngrams(df['cleaned_sms'])\n",
        "  return df_ngrams"
      ],
      "execution_count": 74,
      "outputs": []
    },
    {
      "cell_type": "markdown",
      "metadata": {
        "id": "Udp5asw8-rVD",
        "colab_type": "text"
      },
      "source": [
        "## Implementation"
      ]
    },
    {
      "cell_type": "code",
      "metadata": {
        "id": "fNlaTOSXjefc",
        "colab_type": "code",
        "colab": {}
      },
      "source": [
        "df = pd.read_csv(DATA_PATH, sep='\\t', header=None)\n",
        "df.columns = [\"output\", \"sms\"]"
      ],
      "execution_count": 68,
      "outputs": []
    },
    {
      "cell_type": "code",
      "metadata": {
        "id": "tm6OBDYqAK_e",
        "colab_type": "code",
        "colab": {}
      },
      "source": [
        "df_ngrams = preprocess_corpus(df)"
      ],
      "execution_count": 75,
      "outputs": []
    },
    {
      "cell_type": "code",
      "metadata": {
        "id": "7Y8yGWNRipXk",
        "colab_type": "code",
        "colab": {}
      },
      "source": [
        "ohe_spamHam = {'ham':0, 'spam': 1}\n",
        "X = df_ngrams\n",
        "y = df['output'].replace(ohe_spamHam)\n",
        "X_train, X_test, y_train, y_test = train_test_split(X, y, test_size=0.2, random_state=42)"
      ],
      "execution_count": 76,
      "outputs": []
    },
    {
      "cell_type": "code",
      "metadata": {
        "id": "MX2f2iP_TOvi",
        "colab_type": "code",
        "colab": {
          "base_uri": "https://localhost:8080/",
          "height": 50
        },
        "outputId": "c8984595-d549-4e2b-b9d1-511df76810ac"
      },
      "source": [
        "\"\"\" \n",
        "The data is clearly skewed towards HAM emails meaning that simply \n",
        "classifying all the emails as SPAM would lead to seemingly good results.\n",
        "To deal with this issue we will take a look at F1, Precision and Recall metrics\n",
        "\"\"\"\n",
        "\n",
        "print(f'Training set shape is: {X_train.shape}')\n",
        "print(f'proportion of SPAM is: {100*y_train.sum()/len(y_train)} %')"
      ],
      "execution_count": 77,
      "outputs": [
        {
          "output_type": "stream",
          "text": [
            "Training set shape is: (4457, 2272)\n",
            "proportion of SPAM is: 13.417096701817366 %\n"
          ],
          "name": "stdout"
        }
      ]
    },
    {
      "cell_type": "markdown",
      "metadata": {
        "id": "9Fr7T78rP5eF",
        "colab_type": "text"
      },
      "source": [
        "# **Model**"
      ]
    },
    {
      "cell_type": "markdown",
      "metadata": {
        "id": "_ee9zO9sTHN4",
        "colab_type": "text"
      },
      "source": [
        "## N-gram with Multinomial Naive Bayes"
      ]
    },
    {
      "cell_type": "markdown",
      "metadata": {
        "id": "-Hds8v3YXZhY",
        "colab_type": "text"
      },
      "source": [
        "Although called \"Idiot Bayes\" NB is especially appropriate when the dimension of the feature space is high.\n",
        "The assumption of independence given a class j, in this case, is false. However there is empirical evidence of \n",
        "strong performance\n",
        "\n",
        "The reason why I am using the MNB over any NB model can be found in this paper is mainly that it performs better with \n",
        "large sets of data. More information can be found in the following paper:\n",
        "\n",
        "Andrew McCallum, Kamal Nigam, A Comparison of Event Models for Naive Bayes Text Classification \n",
        "\n",
        "Link: http://www.cs.cmu.edu/~knigam/papers/multinomial-aaaiws98.pdf "
      ]
    },
    {
      "cell_type": "code",
      "metadata": {
        "id": "1_EtsV_VSgHs",
        "colab_type": "code",
        "colab": {}
      },
      "source": [
        "mnb = MultinomialNB()\n",
        "mnb.fit(X_train, y_train)\n",
        "y_pred = mnb.predict(X_test)"
      ],
      "execution_count": 98,
      "outputs": []
    },
    {
      "cell_type": "code",
      "metadata": {
        "id": "VeB1raVuTxS1",
        "colab_type": "code",
        "colab": {
          "base_uri": "https://localhost:8080/",
          "height": 50
        },
        "outputId": "dc0b4b21-c22b-4395-e4c1-a3309e69e2b4"
      },
      "source": [
        "conf_matrix = confusion_matrix(y_test, y_pred)\n",
        "print(conf_matrix)"
      ],
      "execution_count": 99,
      "outputs": [
        {
          "output_type": "stream",
          "text": [
            "[[966   0]\n",
            " [ 22 127]]\n"
          ],
          "name": "stdout"
        }
      ]
    },
    {
      "cell_type": "code",
      "metadata": {
        "id": "DxZBGyFFT5A-",
        "colab_type": "code",
        "colab": {
          "base_uri": "https://localhost:8080/",
          "height": 137
        },
        "outputId": "908bc214-2fd3-4d24-caa9-10a3ca60d826"
      },
      "source": [
        "precision, recall = getPrecisionRecall(conf_matrix)\n",
        "f1 = getF1(precision, recall)\n",
        "\n",
        "keys = ['precision', 'recall', 'f1']\n",
        "values = [precision, recall, f1]\n",
        "\n",
        "MakeTable(keys, values)"
      ],
      "execution_count": 101,
      "outputs": [
        {
          "output_type": "execute_result",
          "data": {
            "text/html": [
              "<div>\n",
              "<style scoped>\n",
              "    .dataframe tbody tr th:only-of-type {\n",
              "        vertical-align: middle;\n",
              "    }\n",
              "\n",
              "    .dataframe tbody tr th {\n",
              "        vertical-align: top;\n",
              "    }\n",
              "\n",
              "    .dataframe thead th {\n",
              "        text-align: right;\n",
              "    }\n",
              "</style>\n",
              "<table border=\"1\" class=\"dataframe\">\n",
              "  <thead>\n",
              "    <tr style=\"text-align: right;\">\n",
              "      <th></th>\n",
              "      <th>score</th>\n",
              "    </tr>\n",
              "  </thead>\n",
              "  <tbody>\n",
              "    <tr>\n",
              "      <th>precision</th>\n",
              "      <td>1.000000</td>\n",
              "    </tr>\n",
              "    <tr>\n",
              "      <th>recall</th>\n",
              "      <td>0.852349</td>\n",
              "    </tr>\n",
              "    <tr>\n",
              "      <th>f1</th>\n",
              "      <td>0.920290</td>\n",
              "    </tr>\n",
              "  </tbody>\n",
              "</table>\n",
              "</div>"
            ],
            "text/plain": [
              "              score\n",
              "precision  1.000000\n",
              "recall     0.852349\n",
              "f1         0.920290"
            ]
          },
          "metadata": {
            "tags": []
          },
          "execution_count": 101
        }
      ]
    },
    {
      "cell_type": "code",
      "metadata": {
        "id": "Al-KmmYXUBkF",
        "colab_type": "code",
        "colab": {
          "base_uri": "https://localhost:8080/",
          "height": 296
        },
        "outputId": "b96287ad-a2d8-48fb-b6b2-01fb2f598a12"
      },
      "source": [
        "y_proba = mnb.predict_proba(X_test)[:,1]\n",
        "plotPRCurve(y_test, y_proba, model_name = 'Multinomial NB')"
      ],
      "execution_count": 102,
      "outputs": [
        {
          "output_type": "stream",
          "text": [
            "Multinomial NB: f1=0.920 auc=0.965\n"
          ],
          "name": "stdout"
        },
        {
          "output_type": "display_data",
          "data": {
            "image/png": "[encoded data removed]",
            "text/plain": [
              "<Figure size 432x288 with 1 Axes>"
            ]
          },
          "metadata": {
            "tags": [],
            "needs_background": "light"
          }
        }
      ]
    },
    {
      "cell_type": "code",
      "metadata": {
        "id": "FrUBZ2FrUizT",
        "colab_type": "code",
        "colab": {
          "base_uri": "https://localhost:8080/",
          "height": 50
        },
        "outputId": "e94c7fd5-a402-49ac-fc48-d03fcc713ae8"
      },
      "source": [
        "y_pred = np.fromiter((applyThreshold(elem, 0.32) for elem in y_proba), y_proba.dtype)\n",
        "conf_matrix = confusion_matrix(y_test, y_pred)\n",
        "conf_matrix"
      ],
      "execution_count": 116,
      "outputs": [
        {
          "output_type": "execute_result",
          "data": {
            "text/plain": [
              "array([[965,   1],\n",
              "       [ 17, 132]])"
            ]
          },
          "metadata": {
            "tags": []
          },
          "execution_count": 116
        }
      ]
    },
    {
      "cell_type": "code",
      "metadata": {
        "id": "rGfTHR5PUi9O",
        "colab_type": "code",
        "colab": {
          "base_uri": "https://localhost:8080/",
          "height": 137
        },
        "outputId": "92c39d19-af5e-4b82-d821-0ad77f5df575"
      },
      "source": [
        "precision, recall = GetPrecisionRecall(conf_matrix)\n",
        "f1 = getF1(precision, recall)\n",
        "\n",
        "keys = ['precision', 'recall', 'f1']\n",
        "values = [precision, recall, f1]\n",
        "\n",
        "MakeTable(keys, values)"
      ],
      "execution_count": 117,
      "outputs": [
        {
          "output_type": "execute_result",
          "data": {
            "text/html": [
              "<div>\n",
              "<style scoped>\n",
              "    .dataframe tbody tr th:only-of-type {\n",
              "        vertical-align: middle;\n",
              "    }\n",
              "\n",
              "    .dataframe tbody tr th {\n",
              "        vertical-align: top;\n",
              "    }\n",
              "\n",
              "    .dataframe thead th {\n",
              "        text-align: right;\n",
              "    }\n",
              "</style>\n",
              "<table border=\"1\" class=\"dataframe\">\n",
              "  <thead>\n",
              "    <tr style=\"text-align: right;\">\n",
              "      <th></th>\n",
              "      <th>score</th>\n",
              "    </tr>\n",
              "  </thead>\n",
              "  <tbody>\n",
              "    <tr>\n",
              "      <th>precision</th>\n",
              "      <td>0.992481</td>\n",
              "    </tr>\n",
              "    <tr>\n",
              "      <th>recall</th>\n",
              "      <td>0.885906</td>\n",
              "    </tr>\n",
              "    <tr>\n",
              "      <th>f1</th>\n",
              "      <td>0.936170</td>\n",
              "    </tr>\n",
              "  </tbody>\n",
              "</table>\n",
              "</div>"
            ],
            "text/plain": [
              "              score\n",
              "precision  0.992481\n",
              "recall     0.885906\n",
              "f1         0.936170"
            ]
          },
          "metadata": {
            "tags": []
          },
          "execution_count": 117
        }
      ]
    },
    {
      "cell_type": "markdown",
      "metadata": {
        "id": "Zxs3wwOIQAkB",
        "colab_type": "text"
      },
      "source": [
        "## Hashing Trick"
      ]
    },
    {
      "cell_type": "markdown",
      "metadata": {
        "id": "QeJSq25ClD7B",
        "colab_type": "text"
      },
      "source": [
        "In this context the Hashing Trick is not very useful as the dataset is fairly small. However, it is important to mention this technique which enable us to have a fixed length of features in our model."
      ]
    },
    {
      "cell_type": "code",
      "metadata": {
        "id": "BPwhVgiE-9Qg",
        "colab_type": "code",
        "colab": {
          "base_uri": "https://localhost:8080/",
          "height": 33
        },
        "outputId": "0ec0a094-539a-47a9-ad97-ff59b6e49bf5"
      },
      "source": [
        "vectorizer = HashingVectorizer(n_features=2**14, alternate_sign=False)\n",
        "X_hashing = vectorizer.fit_transform(df['cleaned_sms'])\n",
        "print(X_hashing.shape)"
      ],
      "execution_count": 140,
      "outputs": [
        {
          "output_type": "stream",
          "text": [
            "(5572, 16384)\n"
          ],
          "name": "stdout"
        }
      ]
    },
    {
      "cell_type": "code",
      "metadata": {
        "id": "7MT-_KXbQ_vw",
        "colab_type": "code",
        "colab": {}
      },
      "source": [
        "X_train, X_test, y_train, y_test = train_test_split(X_hashing, y, test_size=0.2, random_state=42)"
      ],
      "execution_count": 141,
      "outputs": []
    },
    {
      "cell_type": "code",
      "metadata": {
        "id": "4Sg7Uzu8RuK5",
        "colab_type": "code",
        "colab": {}
      },
      "source": [
        "mnb = MultinomialNB()\n",
        "mnb.fit(X_train, y_train)\n",
        "y_pred = mnb.predict(X_test)\n",
        "y_proba = mnb.predict_proba(X_test)[:,1]"
      ],
      "execution_count": 144,
      "outputs": []
    },
    {
      "cell_type": "code",
      "metadata": {
        "id": "CmZz48NfQyhb",
        "colab_type": "code",
        "colab": {
          "base_uri": "https://localhost:8080/",
          "height": 50
        },
        "outputId": "a37086de-99f3-4407-af88-6f4c9f409cd3"
      },
      "source": [
        "conf_matrix = confusion_matrix(y_test, y_pred)\n",
        "conf_matrix"
      ],
      "execution_count": 145,
      "outputs": [
        {
          "output_type": "execute_result",
          "data": {
            "text/plain": [
              "array([[966,   0],\n",
              "       [ 65,  84]])"
            ]
          },
          "metadata": {
            "tags": []
          },
          "execution_count": 145
        }
      ]
    },
    {
      "cell_type": "code",
      "metadata": {
        "id": "cKWKgM4nRne3",
        "colab_type": "code",
        "colab": {}
      },
      "source": [
        "precision, recall = getPrecisionRecall(conf_matrix)\n",
        "f1 = getF1(precision, recall)"
      ],
      "execution_count": 146,
      "outputs": []
    },
    {
      "cell_type": "code",
      "metadata": {
        "id": "eTf62vwoRphM",
        "colab_type": "code",
        "colab": {
          "base_uri": "https://localhost:8080/",
          "height": 137
        },
        "outputId": "c3c48fb4-2d04-4172-932f-1f9290cc41d9"
      },
      "source": [
        "keys = ['precision', 'recall', 'F1']\n",
        "values = [precision, recall, F1]\n",
        "MakeTable(keys, values)"
      ],
      "execution_count": 147,
      "outputs": [
        {
          "output_type": "execute_result",
          "data": {
            "text/html": [
              "<div>\n",
              "<style scoped>\n",
              "    .dataframe tbody tr th:only-of-type {\n",
              "        vertical-align: middle;\n",
              "    }\n",
              "\n",
              "    .dataframe tbody tr th {\n",
              "        vertical-align: top;\n",
              "    }\n",
              "\n",
              "    .dataframe thead th {\n",
              "        text-align: right;\n",
              "    }\n",
              "</style>\n",
              "<table border=\"1\" class=\"dataframe\">\n",
              "  <thead>\n",
              "    <tr style=\"text-align: right;\">\n",
              "      <th></th>\n",
              "      <th>score</th>\n",
              "    </tr>\n",
              "  </thead>\n",
              "  <tbody>\n",
              "    <tr>\n",
              "      <th>precision</th>\n",
              "      <td>1.000000</td>\n",
              "    </tr>\n",
              "    <tr>\n",
              "      <th>recall</th>\n",
              "      <td>0.563758</td>\n",
              "    </tr>\n",
              "    <tr>\n",
              "      <th>F1</th>\n",
              "      <td>0.920290</td>\n",
              "    </tr>\n",
              "  </tbody>\n",
              "</table>\n",
              "</div>"
            ],
            "text/plain": [
              "              score\n",
              "precision  1.000000\n",
              "recall     0.563758\n",
              "F1         0.920290"
            ]
          },
          "metadata": {
            "tags": []
          },
          "execution_count": 147
        }
      ]
    },
    {
      "cell_type": "code",
      "metadata": {
        "id": "V0SBawKlR3KG",
        "colab_type": "code",
        "colab": {
          "base_uri": "https://localhost:8080/",
          "height": 296
        },
        "outputId": "da5df979-f9c8-43bc-db60-4d48a73513ac"
      },
      "source": [
        "plotPRCurve(y_test, y_proba, 'MNB_hashingTrick')"
      ],
      "execution_count": 149,
      "outputs": [
        {
          "output_type": "stream",
          "text": [
            "MNB_hashingTrick: f1=0.721 auc=0.931\n"
          ],
          "name": "stdout"
        },
        {
          "output_type": "display_data",
          "data": {
            "image/png": "[encoded data removed]",
            "text/plain": [
              "<Figure size 432x288 with 1 Axes>"
            ]
          },
          "metadata": {
            "tags": [],
            "needs_background": "light"
          }
        }
      ]
    },
    {
      "cell_type": "code",
      "metadata": {
        "id": "R1IvUzP5R7b0",
        "colab_type": "code",
        "colab": {
          "base_uri": "https://localhost:8080/",
          "height": 50
        },
        "outputId": "31b16c00-e86f-409a-f1af-43bdc1550c07"
      },
      "source": [
        "y_pred = np.fromiter((applyThreshold(elem, 0.28) for elem in y_proba), y_proba.dtype)\n",
        "conf_matrix = confusion_matrix(y_test, y_pred)\n",
        "conf_matrix"
      ],
      "execution_count": 155,
      "outputs": [
        {
          "output_type": "execute_result",
          "data": {
            "text/plain": [
              "array([[964,   2],\n",
              "       [ 39, 110]])"
            ]
          },
          "metadata": {
            "tags": []
          },
          "execution_count": 155
        }
      ]
    },
    {
      "cell_type": "code",
      "metadata": {
        "id": "RoYm-DXNSHfM",
        "colab_type": "code",
        "colab": {
          "base_uri": "https://localhost:8080/",
          "height": 137
        },
        "outputId": "11b9bbe2-ea42-48f5-9acc-c1f9c88b4169"
      },
      "source": [
        "precision, recall = getPrecisionRecall(conf_matrix)\n",
        "f1 = getF1(precision, recall)\n",
        "\n",
        "keys = ['precision', 'recall', 'f1']\n",
        "values = [precision, recall, f1]\n",
        "\n",
        "MakeTable(keys, values)"
      ],
      "execution_count": 158,
      "outputs": [
        {
          "output_type": "execute_result",
          "data": {
            "text/html": [
              "<div>\n",
              "<style scoped>\n",
              "    .dataframe tbody tr th:only-of-type {\n",
              "        vertical-align: middle;\n",
              "    }\n",
              "\n",
              "    .dataframe tbody tr th {\n",
              "        vertical-align: top;\n",
              "    }\n",
              "\n",
              "    .dataframe thead th {\n",
              "        text-align: right;\n",
              "    }\n",
              "</style>\n",
              "<table border=\"1\" class=\"dataframe\">\n",
              "  <thead>\n",
              "    <tr style=\"text-align: right;\">\n",
              "      <th></th>\n",
              "      <th>score</th>\n",
              "    </tr>\n",
              "  </thead>\n",
              "  <tbody>\n",
              "    <tr>\n",
              "      <th>precision</th>\n",
              "      <td>0.982143</td>\n",
              "    </tr>\n",
              "    <tr>\n",
              "      <th>recall</th>\n",
              "      <td>0.738255</td>\n",
              "    </tr>\n",
              "    <tr>\n",
              "      <th>f1</th>\n",
              "      <td>0.842912</td>\n",
              "    </tr>\n",
              "  </tbody>\n",
              "</table>\n",
              "</div>"
            ],
            "text/plain": [
              "              score\n",
              "precision  0.982143\n",
              "recall     0.738255\n",
              "f1         0.842912"
            ]
          },
          "metadata": {
            "tags": []
          },
          "execution_count": 158
        }
      ]
    }
  ]
}